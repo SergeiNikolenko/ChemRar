{
 "cells": [
  {
   "cell_type": "code",
   "execution_count": 4,
   "metadata": {
    "execution": {
     "iopub.execute_input": "2024-03-15T12:16:28.861082Z",
     "iopub.status.busy": "2024-03-15T12:16:28.860833Z",
     "iopub.status.idle": "2024-03-15T12:16:31.677465Z",
     "shell.execute_reply": "2024-03-15T12:16:31.676398Z"
    }
   },
   "outputs": [],
   "source": [
    "import sys\n",
    "from pathlib import Path\n",
    "sys.path.append(str(Path().resolve().parents[0]))\n",
    "\n",
    "\n",
    "import pandas as pd\n",
    "import torch\n",
    "from chemrar_test.prepare import MoleculeDataset"
   ]
  },
  {
   "cell_type": "markdown",
   "metadata": {},
   "source": [
    "### Load the dataset and parse specific columns."
   ]
  },
  {
   "cell_type": "code",
   "execution_count": 5,
   "metadata": {
    "execution": {
     "iopub.execute_input": "2024-03-15T12:16:31.681504Z",
     "iopub.status.busy": "2024-03-15T12:16:31.681296Z",
     "iopub.status.idle": "2024-03-15T12:16:57.940838Z",
     "shell.execute_reply": "2024-03-15T12:16:57.939949Z"
    }
   },
   "outputs": [
    {
     "data": {
      "text/html": [
       "<div>\n",
       "<style scoped>\n",
       "    .dataframe tbody tr th:only-of-type {\n",
       "        vertical-align: middle;\n",
       "    }\n",
       "\n",
       "    .dataframe tbody tr th {\n",
       "        vertical-align: top;\n",
       "    }\n",
       "\n",
       "    .dataframe thead th {\n",
       "        text-align: right;\n",
       "    }\n",
       "</style>\n",
       "<table border=\"1\" class=\"dataframe\">\n",
       "  <thead>\n",
       "    <tr style=\"text-align: right;\">\n",
       "      <th></th>\n",
       "      <th>SMILES</th>\n",
       "      <th>Activity</th>\n",
       "    </tr>\n",
       "  </thead>\n",
       "  <tbody>\n",
       "    <tr>\n",
       "      <th>0</th>\n",
       "      <td>Cc1cncc(C(=O)Nc2ccc3c(c2)nc(CN2CCC(Oc4ccnc(Cc5...</td>\n",
       "      <td>1</td>\n",
       "    </tr>\n",
       "    <tr>\n",
       "      <th>1</th>\n",
       "      <td>O=C(Nc1ccc2c(c1)nc(CN1CCC(Oc3ccnc(Cc4ccc(Cl)cc...</td>\n",
       "      <td>1</td>\n",
       "    </tr>\n",
       "    <tr>\n",
       "      <th>2</th>\n",
       "      <td>Cc1ncccc1C(=O)Nc1ccc2c(c1)nc(CN1CCC(Oc3ccnc(Cc...</td>\n",
       "      <td>1</td>\n",
       "    </tr>\n",
       "    <tr>\n",
       "      <th>3</th>\n",
       "      <td>Cc1ccc(C(=O)Nc2ccc3c(c2)nc(CN2CCC(Oc4ccnc(Cc5c...</td>\n",
       "      <td>1</td>\n",
       "    </tr>\n",
       "    <tr>\n",
       "      <th>4</th>\n",
       "      <td>Cc1ccncc1C(=O)Nc1ccc2c(c1)nc(CN1CCC(Oc3ccnc(Cc...</td>\n",
       "      <td>1</td>\n",
       "    </tr>\n",
       "    <tr>\n",
       "      <th>...</th>\n",
       "      <td>...</td>\n",
       "      <td>...</td>\n",
       "    </tr>\n",
       "    <tr>\n",
       "      <th>367460</th>\n",
       "      <td>CCN(CC)CCCN(Cc1cc2cc(OC)ccc2[nH]c1=O)C(=O)Nc1c...</td>\n",
       "      <td>0</td>\n",
       "    </tr>\n",
       "    <tr>\n",
       "      <th>367461</th>\n",
       "      <td>CC1CCc2nc(NC(=O)c3cc(C(C)(C)C)nn3C)sc2C1</td>\n",
       "      <td>0</td>\n",
       "    </tr>\n",
       "    <tr>\n",
       "      <th>367462</th>\n",
       "      <td>COc1ccc2c(c1)n([O-])c1c([n+]2=O)CCC1</td>\n",
       "      <td>0</td>\n",
       "    </tr>\n",
       "    <tr>\n",
       "      <th>367463</th>\n",
       "      <td>CCN(CC)CCN1C(=O)C(=O)C(=C(O)c2ccc(C)cc2)C1c1cc...</td>\n",
       "      <td>0</td>\n",
       "    </tr>\n",
       "    <tr>\n",
       "      <th>367464</th>\n",
       "      <td>CCOc1ccc(C2C(C(=O)c3ccc(C)o3)=C(O)C(=O)N2CCCN(...</td>\n",
       "      <td>0</td>\n",
       "    </tr>\n",
       "  </tbody>\n",
       "</table>\n",
       "<p>367465 rows × 2 columns</p>\n",
       "</div>"
      ],
      "text/plain": [
       "                                                   SMILES  Activity\n",
       "0       Cc1cncc(C(=O)Nc2ccc3c(c2)nc(CN2CCC(Oc4ccnc(Cc5...         1\n",
       "1       O=C(Nc1ccc2c(c1)nc(CN1CCC(Oc3ccnc(Cc4ccc(Cl)cc...         1\n",
       "2       Cc1ncccc1C(=O)Nc1ccc2c(c1)nc(CN1CCC(Oc3ccnc(Cc...         1\n",
       "3       Cc1ccc(C(=O)Nc2ccc3c(c2)nc(CN2CCC(Oc4ccnc(Cc5c...         1\n",
       "4       Cc1ccncc1C(=O)Nc1ccc2c(c1)nc(CN1CCC(Oc3ccnc(Cc...         1\n",
       "...                                                   ...       ...\n",
       "367460  CCN(CC)CCCN(Cc1cc2cc(OC)ccc2[nH]c1=O)C(=O)Nc1c...         0\n",
       "367461           CC1CCc2nc(NC(=O)c3cc(C(C)(C)C)nn3C)sc2C1         0\n",
       "367462               COc1ccc2c(c1)n([O-])c1c([n+]2=O)CCC1         0\n",
       "367463  CCN(CC)CCN1C(=O)C(=O)C(=C(O)c2ccc(C)cc2)C1c1cc...         0\n",
       "367464  CCOc1ccc(C2C(C(=O)c3ccc(C)o3)=C(O)C(=O)N2CCCN(...         0\n",
       "\n",
       "[367465 rows x 2 columns]"
      ]
     },
     "metadata": {},
     "output_type": "display_data"
    }
   ],
   "source": [
    "data = pd.read_csv('../data/raw/data.csv')\n",
    "data['Activity'] = data['Activity'].map({'Active': 1, 'Inactive': 0})\n",
    "\n",
    "display(data)"
   ]
  },
  {
   "cell_type": "code",
   "execution_count": 6,
   "metadata": {
    "execution": {
     "iopub.execute_input": "2024-03-15T12:17:02.626942Z",
     "iopub.status.busy": "2024-03-15T12:17:02.626748Z",
     "iopub.status.idle": "2024-03-15T12:37:19.141013Z",
     "shell.execute_reply": "2024-03-15T12:37:19.140142Z"
    }
   },
   "outputs": [
    {
     "name": "stderr",
     "output_type": "stream",
     "text": [
      " 20%|██        | 74592/367465 [01:25<04:57, 985.83it/s] "
     ]
    }
   ],
   "source": [
    "dataset = MoleculeDataset(data, \n",
    "                          smiles_column='SMILES',\n",
    "                          target_column='Activity',\n",
    "                          addHs=True,\n",
    "                          n_jobs=-1,\n",
    "                          skipatom_model=None)"
   ]
  },
  {
   "cell_type": "code",
   "execution_count": null,
   "metadata": {
    "execution": {
     "iopub.execute_input": "2024-03-15T12:37:19.145508Z",
     "iopub.status.busy": "2024-03-15T12:37:19.145261Z",
     "iopub.status.idle": "2024-03-15T12:37:19.160333Z",
     "shell.execute_reply": "2024-03-15T12:37:19.159729Z"
    }
   },
   "outputs": [
    {
     "data": {
      "text/plain": [
       "Data(x=[82, 133], edge_index=[2, 176], edge_attr=[176, 14], y=1, smiles='Cc1cncc(C(=O)Nc2ccc3c(c2)nc(CN2CCC(Oc4ccnc(Cc5ccc(Cl)cc5)n4)CC2)n3CC2CCO2)c1')"
      ]
     },
     "execution_count": 4,
     "metadata": {},
     "output_type": "execute_result"
    }
   ],
   "source": [
    "datapoint = dataset[0]\n",
    "datapoint"
   ]
  },
  {
   "cell_type": "code",
   "execution_count": null,
   "metadata": {
    "execution": {
     "iopub.execute_input": "2024-03-15T12:37:19.163486Z",
     "iopub.status.busy": "2024-03-15T12:37:19.163270Z",
     "iopub.status.idle": "2024-03-15T12:37:19.181313Z",
     "shell.execute_reply": "2024-03-15T12:37:19.180562Z"
    }
   },
   "outputs": [
    {
     "name": "stdout",
     "output_type": "stream",
     "text": [
      "Shape of atom features (x): torch.Size([82, 133])\n",
      "Shape of edge index: torch.Size([2, 176])\n",
      "Shape of edge attr: torch.Size([176, 14])\n",
      "Target value (y): 1\n",
      "Shape of target value: torch.Size([])\n",
      "Number of atoms in the molecule: 82\n",
      "Number of bonds in the molecule: 88\n"
     ]
    }
   ],
   "source": [
    "print(f\"Shape of atom features (x): {datapoint.x.shape}\")\n",
    "print(f\"Shape of edge index: {datapoint.edge_index.shape}\")\n",
    "print(f\"Shape of edge attr: {datapoint.edge_attr.shape}\")\n",
    "print(f\"Target value (y): {datapoint.y}\")\n",
    "print(f\"Shape of target value: {datapoint.y.shape}\")\n",
    "print(f\"Number of atoms in the molecule: {datapoint.x.size(0)}\")\n",
    "print(f\"Number of bonds in the molecule: {datapoint.edge_index.size(1) // 2}\")"
   ]
  },
  {
   "cell_type": "code",
   "execution_count": null,
   "metadata": {
    "execution": {
     "iopub.execute_input": "2024-03-15T12:37:19.184355Z",
     "iopub.status.busy": "2024-03-15T12:37:19.184082Z",
     "iopub.status.idle": "2024-03-15T12:41:14.958375Z",
     "shell.execute_reply": "2024-03-15T12:41:14.957311Z"
    }
   },
   "outputs": [],
   "source": [
    "torch.save(dataset, \"../data/processed/data_graph.pt\")"
   ]
  },
  {
   "cell_type": "code",
   "execution_count": null,
   "metadata": {},
   "outputs": [],
   "source": [
    "torch.save(dataset[:100], \"../data/processed/data_graph_first_100.pt\")"
   ]
  }
 ],
 "metadata": {
  "kernelspec": {
   "display_name": "torch_geom",
   "language": "python",
   "name": "python3"
  },
  "language_info": {
   "codemirror_mode": {
    "name": "ipython",
    "version": 3
   },
   "file_extension": ".py",
   "mimetype": "text/x-python",
   "name": "python",
   "nbconvert_exporter": "python",
   "pygments_lexer": "ipython3",
   "version": "3.12.3"
  }
 },
 "nbformat": 4,
 "nbformat_minor": 2
}
